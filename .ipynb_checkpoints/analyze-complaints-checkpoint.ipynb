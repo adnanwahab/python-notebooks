{
 "cells": [
  {
   "cell_type": "code",
   "execution_count": 57,
   "metadata": {},
   "outputs": [
    {
     "name": "stderr",
     "output_type": "stream",
     "text": [
      "/home/adnan/Downloads/conda4/lib/python3.7/site-packages/IPython/core/interactiveshell.py:3051: DtypeWarning: Columns (8,17,20,31,32,33,34,35,36,37) have mixed types. Specify dtype option on import or set low_memory=False.\n",
      "  interactivity=interactivity, compiler=compiler, result=result)\n"
     ]
    },
    {
     "name": "stdout",
     "output_type": "stream",
     "text": [
      "count                 1000000\n",
      "unique                    268\n",
      "top       Noise - Residential\n",
      "freq                   108714\n",
      "Name: Complaint Type, dtype: object\n",
      "('Noise - Residential', 10.871400000000001)\n",
      "('Illegal Parking', 7.4324)\n",
      "('Water System', 7.430299999999999)\n",
      "('Blocked Driveway', 5.8485000000000005)\n",
      "('Noise - Street/Sidewalk', 5.2449)\n",
      "('Street Condition', 4.148899999999999)\n",
      "('Sidewalk Condition', 2.3619000000000003)\n",
      "('Request Large Bulky Item Collection', 2.3191)\n",
      "('HEAT/HOT WATER', 2.2929999999999997)\n",
      "('General Construction/Plumbing', 2.07)\n"
     ]
    }
   ],
   "source": [
    "import pandas as pd\n",
    "df = pd.read_csv('./data/311_requests/_311.csv', nrows=1e6)\n",
    "\n",
    "print(df['Complaint Type'].describe())\n",
    "z = df['Complaint Type'].tolist()\n",
    "from collections import Counter\n",
    "c = Counter(z)\n",
    "p = [(i, c[i] / len(df) * 100.0) for i in c]\n",
    "def getKey(item): return item[1]\n",
    "s = sorted(p, key=getKey, reverse=True)\n",
    "#print(s[:10])\n",
    "for key in s[:10]:\n",
    "    print(key)\n"
   ]
  },
  {
   "cell_type": "code",
   "execution_count": 62,
   "metadata": {},
   "outputs": [
    {
     "name": "stdout",
     "output_type": "stream",
     "text": [
      "50\n"
     ]
    }
   ],
   "source": [
    "print(50)"
   ]
  },
  {
   "cell_type": "code",
   "execution_count": 61,
   "metadata": {},
   "outputs": [
    {
     "data": {
      "text/html": [
       "<style>.container { width:100% !important; }</style>"
      ],
      "text/plain": [
       "<IPython.core.display.HTML object>"
      ]
     },
     "metadata": {},
     "output_type": "display_data"
    }
   ],
   "source": [
    "import matplotlib.pyplot as plt\n",
    "\n",
    "import datashader as ds, pandas as pd\n",
    "import datashader.transfer_functions as tf\n",
    "\n",
    "#cvs = ds.Canvas(plot_width=400, plot_height=400)\n",
    "#plt.axis('scaled')\n",
    "#plt.hist(df['Complaint Type'])\n",
    "#agg = cvs.points(df, 'Longitude', 'Latitude', ds.mean('Longitude'))\n",
    "\n",
    "from functools import partial\n",
    "from datashader.utils import export_image\n",
    "from datashader.colors import colormap_select, Greys9\n",
    "from IPython.core.display import HTML, display\n",
    "background = 'black'\n",
    "export = partial(export_image, background = background, export_path=\"export\")\n",
    "cm = partial(colormap_select, reverse=(background!=\"black\"))\n",
    "\n",
    "display(HTML(\"<style>.container { width:100% !important; }</style>\"))"
   ]
  },
  {
   "cell_type": "code",
   "execution_count": null,
   "metadata": {},
   "outputs": [],
   "source": []
  }
 ],
 "metadata": {
  "kernelspec": {
   "display_name": "Python 3",
   "language": "python",
   "name": "python3"
  },
  "language_info": {
   "codemirror_mode": {
    "name": "ipython",
    "version": 3
   },
   "file_extension": ".py",
   "mimetype": "text/x-python",
   "name": "python",
   "nbconvert_exporter": "python",
   "pygments_lexer": "ipython3",
   "version": "3.7.4"
  }
 },
 "nbformat": 4,
 "nbformat_minor": 2
}
